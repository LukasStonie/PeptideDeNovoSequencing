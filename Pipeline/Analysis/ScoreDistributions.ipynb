{
 "cells": [
  {
   "cell_type": "code",
   "execution_count": 5,
   "metadata": {
    "collapsed": true,
    "ExecuteTime": {
     "end_time": "2024-05-01T20:29:01.530579Z",
     "start_time": "2024-05-01T20:29:01.525677Z"
    }
   },
   "outputs": [],
   "source": [
    "import seaborn as sns\n",
    "import pandas as pd\n",
    "import matplotlib.pyplot as plt\n",
    "import itertools\n",
    "\n",
    "import warnings\n",
    "\n",
    "warnings.filterwarnings('ignore')"
   ]
  },
  {
   "cell_type": "code",
   "execution_count": 2,
   "outputs": [
    {
     "ename": "FileNotFoundError",
     "evalue": "[Errno 2] No such file or directory: '/Users/lukas/University/Bachelor_Thesis/Project/PeptideDeNovoSequencing/Data/BD7_Thermo_Pool52_HCD/Thermo_SRM_Pool_52_01_01_3xHCD-1h-R2-tryptic/msmsScans.txt'",
     "output_type": "error",
     "traceback": [
      "\u001B[0;31m---------------------------------------------------------------------------\u001B[0m",
      "\u001B[0;31mFileNotFoundError\u001B[0m                         Traceback (most recent call last)",
      "Cell \u001B[0;32mIn[2], line 1\u001B[0m\n\u001B[0;32m----> 1\u001B[0m expected \u001B[38;5;241m=\u001B[39m \u001B[43mpd\u001B[49m\u001B[38;5;241;43m.\u001B[39;49m\u001B[43mread_csv\u001B[49m\u001B[43m(\u001B[49m\n\u001B[1;32m      2\u001B[0m \u001B[43m        \u001B[49m\u001B[38;5;124;43m\"\u001B[39;49m\u001B[38;5;124;43m/Users/lukas/University/Bachelor_Thesis/Project/PeptideDeNovoSequencing/Data/BD7_Thermo_Pool52_HCD/Thermo_SRM_Pool_52_01_01_3xHCD-1h-R2-tryptic/msmsScans.txt\u001B[39;49m\u001B[38;5;124;43m\"\u001B[39;49m\u001B[43m,\u001B[49m\n\u001B[1;32m      3\u001B[0m \u001B[43m        \u001B[49m\u001B[43msep\u001B[49m\u001B[38;5;241;43m=\u001B[39;49m\u001B[38;5;124;43m'\u001B[39;49m\u001B[38;5;130;43;01m\\t\u001B[39;49;00m\u001B[38;5;124;43m'\u001B[39;49m\u001B[43m)\u001B[49m\n\u001B[1;32m      4\u001B[0m count_spectra \u001B[38;5;241m=\u001B[39m expected\u001B[38;5;241m.\u001B[39mshape[\u001B[38;5;241m0\u001B[39m]\n\u001B[1;32m      5\u001B[0m \u001B[38;5;28mprint\u001B[39m(\u001B[38;5;124m\"\u001B[39m\u001B[38;5;124mamount expected spectra:\u001B[39m\u001B[38;5;124m\"\u001B[39m, count_spectra)\n",
      "File \u001B[0;32m~/opt/anaconda3/envs/bachelors_thesis/lib/python3.9/site-packages/pandas/io/parsers/readers.py:1026\u001B[0m, in \u001B[0;36mread_csv\u001B[0;34m(filepath_or_buffer, sep, delimiter, header, names, index_col, usecols, dtype, engine, converters, true_values, false_values, skipinitialspace, skiprows, skipfooter, nrows, na_values, keep_default_na, na_filter, verbose, skip_blank_lines, parse_dates, infer_datetime_format, keep_date_col, date_parser, date_format, dayfirst, cache_dates, iterator, chunksize, compression, thousands, decimal, lineterminator, quotechar, quoting, doublequote, escapechar, comment, encoding, encoding_errors, dialect, on_bad_lines, delim_whitespace, low_memory, memory_map, float_precision, storage_options, dtype_backend)\u001B[0m\n\u001B[1;32m   1013\u001B[0m kwds_defaults \u001B[38;5;241m=\u001B[39m _refine_defaults_read(\n\u001B[1;32m   1014\u001B[0m     dialect,\n\u001B[1;32m   1015\u001B[0m     delimiter,\n\u001B[0;32m   (...)\u001B[0m\n\u001B[1;32m   1022\u001B[0m     dtype_backend\u001B[38;5;241m=\u001B[39mdtype_backend,\n\u001B[1;32m   1023\u001B[0m )\n\u001B[1;32m   1024\u001B[0m kwds\u001B[38;5;241m.\u001B[39mupdate(kwds_defaults)\n\u001B[0;32m-> 1026\u001B[0m \u001B[38;5;28;01mreturn\u001B[39;00m \u001B[43m_read\u001B[49m\u001B[43m(\u001B[49m\u001B[43mfilepath_or_buffer\u001B[49m\u001B[43m,\u001B[49m\u001B[43m \u001B[49m\u001B[43mkwds\u001B[49m\u001B[43m)\u001B[49m\n",
      "File \u001B[0;32m~/opt/anaconda3/envs/bachelors_thesis/lib/python3.9/site-packages/pandas/io/parsers/readers.py:620\u001B[0m, in \u001B[0;36m_read\u001B[0;34m(filepath_or_buffer, kwds)\u001B[0m\n\u001B[1;32m    617\u001B[0m _validate_names(kwds\u001B[38;5;241m.\u001B[39mget(\u001B[38;5;124m\"\u001B[39m\u001B[38;5;124mnames\u001B[39m\u001B[38;5;124m\"\u001B[39m, \u001B[38;5;28;01mNone\u001B[39;00m))\n\u001B[1;32m    619\u001B[0m \u001B[38;5;66;03m# Create the parser.\u001B[39;00m\n\u001B[0;32m--> 620\u001B[0m parser \u001B[38;5;241m=\u001B[39m \u001B[43mTextFileReader\u001B[49m\u001B[43m(\u001B[49m\u001B[43mfilepath_or_buffer\u001B[49m\u001B[43m,\u001B[49m\u001B[43m \u001B[49m\u001B[38;5;241;43m*\u001B[39;49m\u001B[38;5;241;43m*\u001B[39;49m\u001B[43mkwds\u001B[49m\u001B[43m)\u001B[49m\n\u001B[1;32m    622\u001B[0m \u001B[38;5;28;01mif\u001B[39;00m chunksize \u001B[38;5;129;01mor\u001B[39;00m iterator:\n\u001B[1;32m    623\u001B[0m     \u001B[38;5;28;01mreturn\u001B[39;00m parser\n",
      "File \u001B[0;32m~/opt/anaconda3/envs/bachelors_thesis/lib/python3.9/site-packages/pandas/io/parsers/readers.py:1620\u001B[0m, in \u001B[0;36mTextFileReader.__init__\u001B[0;34m(self, f, engine, **kwds)\u001B[0m\n\u001B[1;32m   1617\u001B[0m     \u001B[38;5;28mself\u001B[39m\u001B[38;5;241m.\u001B[39moptions[\u001B[38;5;124m\"\u001B[39m\u001B[38;5;124mhas_index_names\u001B[39m\u001B[38;5;124m\"\u001B[39m] \u001B[38;5;241m=\u001B[39m kwds[\u001B[38;5;124m\"\u001B[39m\u001B[38;5;124mhas_index_names\u001B[39m\u001B[38;5;124m\"\u001B[39m]\n\u001B[1;32m   1619\u001B[0m \u001B[38;5;28mself\u001B[39m\u001B[38;5;241m.\u001B[39mhandles: IOHandles \u001B[38;5;241m|\u001B[39m \u001B[38;5;28;01mNone\u001B[39;00m \u001B[38;5;241m=\u001B[39m \u001B[38;5;28;01mNone\u001B[39;00m\n\u001B[0;32m-> 1620\u001B[0m \u001B[38;5;28mself\u001B[39m\u001B[38;5;241m.\u001B[39m_engine \u001B[38;5;241m=\u001B[39m \u001B[38;5;28;43mself\u001B[39;49m\u001B[38;5;241;43m.\u001B[39;49m\u001B[43m_make_engine\u001B[49m\u001B[43m(\u001B[49m\u001B[43mf\u001B[49m\u001B[43m,\u001B[49m\u001B[43m \u001B[49m\u001B[38;5;28;43mself\u001B[39;49m\u001B[38;5;241;43m.\u001B[39;49m\u001B[43mengine\u001B[49m\u001B[43m)\u001B[49m\n",
      "File \u001B[0;32m~/opt/anaconda3/envs/bachelors_thesis/lib/python3.9/site-packages/pandas/io/parsers/readers.py:1880\u001B[0m, in \u001B[0;36mTextFileReader._make_engine\u001B[0;34m(self, f, engine)\u001B[0m\n\u001B[1;32m   1878\u001B[0m     \u001B[38;5;28;01mif\u001B[39;00m \u001B[38;5;124m\"\u001B[39m\u001B[38;5;124mb\u001B[39m\u001B[38;5;124m\"\u001B[39m \u001B[38;5;129;01mnot\u001B[39;00m \u001B[38;5;129;01min\u001B[39;00m mode:\n\u001B[1;32m   1879\u001B[0m         mode \u001B[38;5;241m+\u001B[39m\u001B[38;5;241m=\u001B[39m \u001B[38;5;124m\"\u001B[39m\u001B[38;5;124mb\u001B[39m\u001B[38;5;124m\"\u001B[39m\n\u001B[0;32m-> 1880\u001B[0m \u001B[38;5;28mself\u001B[39m\u001B[38;5;241m.\u001B[39mhandles \u001B[38;5;241m=\u001B[39m \u001B[43mget_handle\u001B[49m\u001B[43m(\u001B[49m\n\u001B[1;32m   1881\u001B[0m \u001B[43m    \u001B[49m\u001B[43mf\u001B[49m\u001B[43m,\u001B[49m\n\u001B[1;32m   1882\u001B[0m \u001B[43m    \u001B[49m\u001B[43mmode\u001B[49m\u001B[43m,\u001B[49m\n\u001B[1;32m   1883\u001B[0m \u001B[43m    \u001B[49m\u001B[43mencoding\u001B[49m\u001B[38;5;241;43m=\u001B[39;49m\u001B[38;5;28;43mself\u001B[39;49m\u001B[38;5;241;43m.\u001B[39;49m\u001B[43moptions\u001B[49m\u001B[38;5;241;43m.\u001B[39;49m\u001B[43mget\u001B[49m\u001B[43m(\u001B[49m\u001B[38;5;124;43m\"\u001B[39;49m\u001B[38;5;124;43mencoding\u001B[39;49m\u001B[38;5;124;43m\"\u001B[39;49m\u001B[43m,\u001B[49m\u001B[43m \u001B[49m\u001B[38;5;28;43;01mNone\u001B[39;49;00m\u001B[43m)\u001B[49m\u001B[43m,\u001B[49m\n\u001B[1;32m   1884\u001B[0m \u001B[43m    \u001B[49m\u001B[43mcompression\u001B[49m\u001B[38;5;241;43m=\u001B[39;49m\u001B[38;5;28;43mself\u001B[39;49m\u001B[38;5;241;43m.\u001B[39;49m\u001B[43moptions\u001B[49m\u001B[38;5;241;43m.\u001B[39;49m\u001B[43mget\u001B[49m\u001B[43m(\u001B[49m\u001B[38;5;124;43m\"\u001B[39;49m\u001B[38;5;124;43mcompression\u001B[39;49m\u001B[38;5;124;43m\"\u001B[39;49m\u001B[43m,\u001B[49m\u001B[43m \u001B[49m\u001B[38;5;28;43;01mNone\u001B[39;49;00m\u001B[43m)\u001B[49m\u001B[43m,\u001B[49m\n\u001B[1;32m   1885\u001B[0m \u001B[43m    \u001B[49m\u001B[43mmemory_map\u001B[49m\u001B[38;5;241;43m=\u001B[39;49m\u001B[38;5;28;43mself\u001B[39;49m\u001B[38;5;241;43m.\u001B[39;49m\u001B[43moptions\u001B[49m\u001B[38;5;241;43m.\u001B[39;49m\u001B[43mget\u001B[49m\u001B[43m(\u001B[49m\u001B[38;5;124;43m\"\u001B[39;49m\u001B[38;5;124;43mmemory_map\u001B[39;49m\u001B[38;5;124;43m\"\u001B[39;49m\u001B[43m,\u001B[49m\u001B[43m \u001B[49m\u001B[38;5;28;43;01mFalse\u001B[39;49;00m\u001B[43m)\u001B[49m\u001B[43m,\u001B[49m\n\u001B[1;32m   1886\u001B[0m \u001B[43m    \u001B[49m\u001B[43mis_text\u001B[49m\u001B[38;5;241;43m=\u001B[39;49m\u001B[43mis_text\u001B[49m\u001B[43m,\u001B[49m\n\u001B[1;32m   1887\u001B[0m \u001B[43m    \u001B[49m\u001B[43merrors\u001B[49m\u001B[38;5;241;43m=\u001B[39;49m\u001B[38;5;28;43mself\u001B[39;49m\u001B[38;5;241;43m.\u001B[39;49m\u001B[43moptions\u001B[49m\u001B[38;5;241;43m.\u001B[39;49m\u001B[43mget\u001B[49m\u001B[43m(\u001B[49m\u001B[38;5;124;43m\"\u001B[39;49m\u001B[38;5;124;43mencoding_errors\u001B[39;49m\u001B[38;5;124;43m\"\u001B[39;49m\u001B[43m,\u001B[49m\u001B[43m \u001B[49m\u001B[38;5;124;43m\"\u001B[39;49m\u001B[38;5;124;43mstrict\u001B[39;49m\u001B[38;5;124;43m\"\u001B[39;49m\u001B[43m)\u001B[49m\u001B[43m,\u001B[49m\n\u001B[1;32m   1888\u001B[0m \u001B[43m    \u001B[49m\u001B[43mstorage_options\u001B[49m\u001B[38;5;241;43m=\u001B[39;49m\u001B[38;5;28;43mself\u001B[39;49m\u001B[38;5;241;43m.\u001B[39;49m\u001B[43moptions\u001B[49m\u001B[38;5;241;43m.\u001B[39;49m\u001B[43mget\u001B[49m\u001B[43m(\u001B[49m\u001B[38;5;124;43m\"\u001B[39;49m\u001B[38;5;124;43mstorage_options\u001B[39;49m\u001B[38;5;124;43m\"\u001B[39;49m\u001B[43m,\u001B[49m\u001B[43m \u001B[49m\u001B[38;5;28;43;01mNone\u001B[39;49;00m\u001B[43m)\u001B[49m\u001B[43m,\u001B[49m\n\u001B[1;32m   1889\u001B[0m \u001B[43m\u001B[49m\u001B[43m)\u001B[49m\n\u001B[1;32m   1890\u001B[0m \u001B[38;5;28;01massert\u001B[39;00m \u001B[38;5;28mself\u001B[39m\u001B[38;5;241m.\u001B[39mhandles \u001B[38;5;129;01mis\u001B[39;00m \u001B[38;5;129;01mnot\u001B[39;00m \u001B[38;5;28;01mNone\u001B[39;00m\n\u001B[1;32m   1891\u001B[0m f \u001B[38;5;241m=\u001B[39m \u001B[38;5;28mself\u001B[39m\u001B[38;5;241m.\u001B[39mhandles\u001B[38;5;241m.\u001B[39mhandle\n",
      "File \u001B[0;32m~/opt/anaconda3/envs/bachelors_thesis/lib/python3.9/site-packages/pandas/io/common.py:873\u001B[0m, in \u001B[0;36mget_handle\u001B[0;34m(path_or_buf, mode, encoding, compression, memory_map, is_text, errors, storage_options)\u001B[0m\n\u001B[1;32m    868\u001B[0m \u001B[38;5;28;01melif\u001B[39;00m \u001B[38;5;28misinstance\u001B[39m(handle, \u001B[38;5;28mstr\u001B[39m):\n\u001B[1;32m    869\u001B[0m     \u001B[38;5;66;03m# Check whether the filename is to be opened in binary mode.\u001B[39;00m\n\u001B[1;32m    870\u001B[0m     \u001B[38;5;66;03m# Binary mode does not support 'encoding' and 'newline'.\u001B[39;00m\n\u001B[1;32m    871\u001B[0m     \u001B[38;5;28;01mif\u001B[39;00m ioargs\u001B[38;5;241m.\u001B[39mencoding \u001B[38;5;129;01mand\u001B[39;00m \u001B[38;5;124m\"\u001B[39m\u001B[38;5;124mb\u001B[39m\u001B[38;5;124m\"\u001B[39m \u001B[38;5;129;01mnot\u001B[39;00m \u001B[38;5;129;01min\u001B[39;00m ioargs\u001B[38;5;241m.\u001B[39mmode:\n\u001B[1;32m    872\u001B[0m         \u001B[38;5;66;03m# Encoding\u001B[39;00m\n\u001B[0;32m--> 873\u001B[0m         handle \u001B[38;5;241m=\u001B[39m \u001B[38;5;28;43mopen\u001B[39;49m\u001B[43m(\u001B[49m\n\u001B[1;32m    874\u001B[0m \u001B[43m            \u001B[49m\u001B[43mhandle\u001B[49m\u001B[43m,\u001B[49m\n\u001B[1;32m    875\u001B[0m \u001B[43m            \u001B[49m\u001B[43mioargs\u001B[49m\u001B[38;5;241;43m.\u001B[39;49m\u001B[43mmode\u001B[49m\u001B[43m,\u001B[49m\n\u001B[1;32m    876\u001B[0m \u001B[43m            \u001B[49m\u001B[43mencoding\u001B[49m\u001B[38;5;241;43m=\u001B[39;49m\u001B[43mioargs\u001B[49m\u001B[38;5;241;43m.\u001B[39;49m\u001B[43mencoding\u001B[49m\u001B[43m,\u001B[49m\n\u001B[1;32m    877\u001B[0m \u001B[43m            \u001B[49m\u001B[43merrors\u001B[49m\u001B[38;5;241;43m=\u001B[39;49m\u001B[43merrors\u001B[49m\u001B[43m,\u001B[49m\n\u001B[1;32m    878\u001B[0m \u001B[43m            \u001B[49m\u001B[43mnewline\u001B[49m\u001B[38;5;241;43m=\u001B[39;49m\u001B[38;5;124;43m\"\u001B[39;49m\u001B[38;5;124;43m\"\u001B[39;49m\u001B[43m,\u001B[49m\n\u001B[1;32m    879\u001B[0m \u001B[43m        \u001B[49m\u001B[43m)\u001B[49m\n\u001B[1;32m    880\u001B[0m     \u001B[38;5;28;01melse\u001B[39;00m:\n\u001B[1;32m    881\u001B[0m         \u001B[38;5;66;03m# Binary mode\u001B[39;00m\n\u001B[1;32m    882\u001B[0m         handle \u001B[38;5;241m=\u001B[39m \u001B[38;5;28mopen\u001B[39m(handle, ioargs\u001B[38;5;241m.\u001B[39mmode)\n",
      "\u001B[0;31mFileNotFoundError\u001B[0m: [Errno 2] No such file or directory: '/Users/lukas/University/Bachelor_Thesis/Project/PeptideDeNovoSequencing/Data/BD7_Thermo_Pool52_HCD/Thermo_SRM_Pool_52_01_01_3xHCD-1h-R2-tryptic/msmsScans.txt'"
     ]
    }
   ],
   "source": [
    "expected = pd.read_csv(\n",
    "        \"/Users/lukas/University/Bachelor_Thesis/Project/PeptideDeNovoSequencing/Data/BD7_Thermo_Pool52_HCD/Thermo_SRM_Pool_52_01_01_3xHCD-1h-R2-tryptic/msmsScans.txt\",\n",
    "        sep='\\t')\n",
    "count_spectra = expected.shape[0]\n",
    "print(\"amount expected spectra:\", count_spectra)\n",
    "count_identified = expected.query(\"Identified == '+'\").shape[0]\n",
    "print(\"amount idenfied spectra:\",count_identified )"
   ],
   "metadata": {
    "collapsed": false,
    "ExecuteTime": {
     "end_time": "2024-05-01T20:15:15.456057Z",
     "start_time": "2024-05-01T20:15:14.339164Z"
    }
   }
  },
  {
   "cell_type": "code",
   "execution_count": 7,
   "outputs": [
    {
     "name": "stdout",
     "output_type": "stream",
     "text": [
      "Algorithm: DeepNovo Pool_49\n",
      "100% similarity: 10896\n",
      "100% identity: 3589\n",
      "0 levenshtein: 3589\n",
      "total count: 30256 \n",
      "\n",
      "Algorithm: Novor Pool_49\n",
      "100% similarity: 15629\n",
      "100% identity: 8250\n",
      "0 levenshtein: 8250\n",
      "total count: 33877 \n",
      "\n",
      "Algorithm: DirecTag Pool_49\n",
      "100% similarity: 121002\n",
      "100% identity: 60068\n",
      "0 levenshtein: 0\n",
      "total count: 251849 \n",
      "\n",
      "Algorithm: PEAKS Pool_49\n",
      "100% similarity: 15204\n",
      "100% identity: 8156\n",
      "0 levenshtein: 8156\n",
      "total count: 28481 \n",
      "\n",
      "Algorithm: DeepNovo Pool_52\n",
      "100% similarity: 11688\n",
      "100% identity: 2657\n",
      "0 levenshtein: 2657\n",
      "total count: 27962 \n",
      "\n",
      "Algorithm: Novor Pool_52\n",
      "100% similarity: 15252\n",
      "100% identity: 8848\n",
      "0 levenshtein: 8848\n",
      "total count: 31591 \n",
      "\n",
      "Algorithm: DirecTag Pool_52\n",
      "100% similarity: 105899\n",
      "100% identity: 46951\n",
      "0 levenshtein: 0\n",
      "total count: 230256 \n",
      "\n",
      "Algorithm: PEAKS Pool_52\n",
      "100% similarity: 16174\n",
      "100% identity: 9555\n",
      "0 levenshtein: 9555\n",
      "total count: 30035 \n",
      "\n",
      "Algorithm: DeepNovo Pool_60\n",
      "100% similarity: 13072\n",
      "100% identity: 4186\n",
      "0 levenshtein: 4186\n",
      "total count: 24707 \n",
      "\n",
      "Algorithm: Novor Pool_60\n",
      "100% similarity: 16865\n",
      "100% identity: 8807\n",
      "0 levenshtein: 8807\n",
      "total count: 31499 \n",
      "\n",
      "Algorithm: DirecTag Pool_60\n",
      "100% similarity: 106522\n",
      "100% identity: 50807\n",
      "0 levenshtein: 0\n",
      "total count: 231499 \n",
      "\n",
      "Algorithm: PEAKS Pool_60\n",
      "100% similarity: 17314\n",
      "100% identity: 9195\n",
      "0 levenshtein: 9194\n",
      "total count: 30360 \n",
      "\n"
     ]
    }
   ],
   "source": [
    "algorithms = [('DeepNovo', 'deepnovo'), ('Novor', 'novor'), ('DirecTag', 'direcTag'), ('PEAKS', 'peaks')]\n",
    "pools = ['Pool_49', 'Pool_52', 'Pool_60']\n",
    "combinations = itertools.product(pools, algorithms)\n",
    "for comb in combinations:\n",
    "    pool = comb[0]\n",
    "    result_file = comb[1][1]\n",
    "    alg = comb[1][0]\n",
    "    # read dataset\n",
    "    data = pd.read_csv(f'../../Data/ScoringResults/{pool}/{result_file}_scored.tsv', sep='\\t', index_col=0)\n",
    "\n",
    "    # plot similarity distribution\n",
    "    plt.figure()\n",
    "    similarity_pt = sns.histplot(data['Similarity'], bins=100)\n",
    "    similarity_pt.set_title(f'{\" \".join(pool.split(\"_\"))} | {alg} - Similarity Distribution')\n",
    "    plt.savefig(f'../../Data/Analysis/{pool}/{result_file}/hist_similarity.png')\n",
    "    plt.close()\n",
    "\n",
    "    # plot identity distribution\n",
    "    plt.figure()\n",
    "    identity_plt =sns.histplot(data['Identity'], bins=100, color='red')\n",
    "    identity_plt.set_title(f'{\" \".join(pool.split(\"_\"))} | {alg} - Identity Distribution')\n",
    "    plt.savefig(f'../../Data/Analysis/{pool}/{result_file}/hist_identity.png')\n",
    "    plt.close()\n",
    "\n",
    "    # plot similarity vs identity\n",
    "    plt.figure()\n",
    "    sns.scatterplot(data=data, x='Similarity', y='Identity')\n",
    "    plt.title(f'{alg} - Similarity vs Identity')\n",
    "    plt.savefig(f'../../Data/Analysis/{pool}/{result_file}/scatter_similarity_identity.png')\n",
    "    plt.close()\n",
    "\n",
    "    # plot levenstein distance distribution\n",
    "    if 'Levenshtein' in data.columns:\n",
    "        plt.figure()\n",
    "        sns.histplot(data['Levenshtein'], bins=100, color='green')\n",
    "        plt.title(f'{\" \".join(pool.split(\"_\"))} | {alg} - Levenshtein Distance Distribution')\n",
    "        plt.savefig(f'../../Data/Analysis/{pool}/{result_file}/hist_levenshtein.png')\n",
    "        plt.close()\n",
    "\n",
    "    # plot local alignment score distribution\n",
    "    plt.figure()\n",
    "    sns.histplot(data['Local Alignment'], bins=100, color='purple')\n",
    "    plt.title(f'{\" \".join(pool.split(\"_\"))} | {alg} - Local Alignment Score Distribution')\n",
    "    plt.savefig(f'../../Data/Analysis/{pool}/{result_file}/hist_local_alignment.png')\n",
    "    plt.close()\n",
    "\n",
    "    # plot global alignment score distribution\n",
    "    plt.figure()\n",
    "    sns.histplot(data['Global Alignment'], bins=100, color='orange')\n",
    "    plt.title(f'{\" \".join(pool.split(\"_\"))} | {alg} - Global Alignment Score Distribution')\n",
    "    plt.savefig(f'../../Data/Analysis/{pool}/{result_file}/hist_global_alignment.png')\n",
    "    plt.close()\n",
    "\n",
    "    # plot normalized local alignment score distribution\n",
    "    plt.figure()\n",
    "    sns.histplot(data['Normalized Local Alignment'], bins=100, color='brown')\n",
    "    plt.title(f'{\" \".join(pool.split(\"_\"))} | {alg} - Normalized Local Alignment Score Distribution')\n",
    "    plt.savefig(f'../../Data/Analysis/{pool}/{result_file}/hist_norm_local_alignment.png')\n",
    "    plt.close()\n",
    "    # plot normalized global alignment score distribution\n",
    "    plt.figure()\n",
    "    sns.histplot(data['Normalized Global Alignment'], bins=100, color='pink')\n",
    "    plt.title(f'{\" \".join(pool.split(\"_\"))} | {alg} - Normalized Global Alignment Score Distribution')\n",
    "    plt.savefig(f'../../Data/Analysis/{pool}/{result_file}/hist_norm_global_alignment.png')\n",
    "    plt.close()\n",
    "\n",
    "    # print details\n",
    "    print(f'Algorithm: {alg}', pool)\n",
    "    print('100% similarity:', (data.query('Similarity == 1.0').shape[0]))\n",
    "    print('100% identity:', (data.query('Identity == 1.0').shape[0]))\n",
    "    if 'Levenshtein' in data.columns:\n",
    "        print('0 levenshtein:', (data.query('Levenshtein == 0').shape[0]))\n",
    "    print('total count:', data.shape[0], '\\n')"
   ],
   "metadata": {
    "collapsed": false,
    "ExecuteTime": {
     "end_time": "2024-05-01T20:29:44.694693Z",
     "start_time": "2024-05-01T20:29:22.042999Z"
    }
   }
  },
  {
   "cell_type": "code",
   "execution_count": 13,
   "outputs": [],
   "source": [
    "for p in pools:\n",
    "    metrics = ['Local Alignment', 'Global Alignment', 'Normalized Local Alignment', 'Normalized Global Alignment']\n",
    "    metrics_file = ['local_alignment', 'global_alignment', 'norm_local_alignment', 'norm_global_alignment']\n",
    "    novor_df = pd.read_csv(f'../../Data/ScoringResults/{p}/novor_scored.tsv', sep='\\t', index_col=0)\n",
    "    deepnovo_df = pd.read_csv(f'../../Data/ScoringResults/{p}/deepnovo_scored.tsv', sep='\\t', index_col=0)\n",
    "    directTag_df = pd.read_csv(f'../../Data/ScoringResults/{p}/direcTag_scored.tsv', sep='\\t', index_col=0)\n",
    "    peaks_df = pd.read_csv(f'../../Data/ScoringResults/{p}/peaks_scored.tsv', sep='\\t', index_col=0)\n",
    "    for met, file_name in zip(metrics, metrics_file):\n",
    "        plt.figure()\n",
    "        plt.hist(novor_df[met], bins=100, color='blue', alpha=0.3, label='Novor', density=True)\n",
    "        plt.hist(deepnovo_df[met], bins=100, color='red', alpha=0.3, label='DeepNovo', density=True)\n",
    "        plt.hist(directTag_df[met], bins=100, color='green', alpha=0.3, label='DirectTag', density=True)\n",
    "        plt.hist(peaks_df[met], bins=100, color='orange', alpha=0.3, label='PEAKS', density=True)\n",
    "        plt.title(f'{\" \".join(p.split(\"_\"))} | {met} Density Distribution')\n",
    "        plt.legend()\n",
    "        plt.xlabel(f'{met} Score')\n",
    "        plt.ylabel('Density')\n",
    "        plt.savefig(f'../../Data/Analysis/{p}/hist_{file_name}.png')\n",
    "        plt.close()"
   ],
   "metadata": {
    "collapsed": false,
    "ExecuteTime": {
     "end_time": "2024-05-01T20:36:15.905920Z",
     "start_time": "2024-05-01T20:36:09.136102Z"
    }
   }
  },
  {
   "cell_type": "code",
   "execution_count": null,
   "outputs": [],
   "source": [],
   "metadata": {
    "collapsed": false,
    "ExecuteTime": {
     "start_time": "2024-05-01T20:15:15.448305Z"
    }
   }
  }
 ],
 "metadata": {
  "kernelspec": {
   "display_name": "Python 3",
   "language": "python",
   "name": "python3"
  },
  "language_info": {
   "codemirror_mode": {
    "name": "ipython",
    "version": 2
   },
   "file_extension": ".py",
   "mimetype": "text/x-python",
   "name": "python",
   "nbconvert_exporter": "python",
   "pygments_lexer": "ipython2",
   "version": "2.7.6"
  }
 },
 "nbformat": 4,
 "nbformat_minor": 0
}
