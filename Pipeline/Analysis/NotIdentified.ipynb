{
 "cells": [
  {
   "cell_type": "code",
   "execution_count": null,
   "metadata": {
    "collapsed": true,
    "is_executing": true
   },
   "outputs": [],
   "source": [
    "import pandas as pd"
   ]
  },
  {
   "cell_type": "code",
   "execution_count": null,
   "outputs": [],
   "source": [
    "import hashlib\n",
    "from Bio.Align import substitution_matrices\n",
    "from Bio.SubsMat import MatrixInfo\n",
    "\n",
    "def calculate_blosum_similarity(seq1, seq2, matrix):\n",
    "    score = 0\n",
    "    for aa1, aa2 in zip(seq1, seq2):\n",
    "        if (aa1, aa2) in matrix:\n",
    "            score += matrix[(aa1, aa2)]\n",
    "        else:\n",
    "            score += matrix[(aa2, aa1)]  # Check reverse pair\n",
    "    return score\n",
    "\n",
    "def generate_sequence_hash(sequence:str, matrix):\n",
    "    sequence_score = sum(matrix[(sequence[i], sequence[i+1])] for i in range(len(sequence) - 1))\n",
    "    return hashlib.sha256(str(sequence_score).encode()).hexdigest()\n",
    "\n",
    "# Example sequences\n",
    "sequence1 = \"MDSRGEWVG\"\n",
    "sequence2 = \"MDSPLEWVK\"\n",
    "\n",
    "# Use BLOSUM62 matrix\n",
    "blosum62 = MatrixInfo.blosum62\n",
    "\n",
    "# Calculate similarity score\n",
    "similarity_score = calculate_blosum_similarity(sequence1, sequence2, blosum62)\n",
    "\n",
    "# Generate hash values for sequences\n",
    "hash1 = generate_sequence_hash(sequence1, blosum62)\n",
    "hash2 = generate_sequence_hash(sequence2, blosum62)\n",
    "\n",
    "print(\"Similarity Score:\", similarity_score)\n",
    "print(\"Hash of Sequence 1:\", hash1)\n",
    "print(\"Hash of Sequence 2:\", hash2)"
   ],
   "metadata": {
    "collapsed": false
   }
  }
 ],
 "metadata": {
  "kernelspec": {
   "display_name": "Python 3",
   "language": "python",
   "name": "python3"
  },
  "language_info": {
   "codemirror_mode": {
    "name": "ipython",
    "version": 2
   },
   "file_extension": ".py",
   "mimetype": "text/x-python",
   "name": "python",
   "nbconvert_exporter": "python",
   "pygments_lexer": "ipython2",
   "version": "2.7.6"
  }
 },
 "nbformat": 4,
 "nbformat_minor": 0
}
