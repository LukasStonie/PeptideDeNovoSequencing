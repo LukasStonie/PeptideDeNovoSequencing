{
 "cells": [
  {
   "cell_type": "code",
   "execution_count": null,
   "id": "initial_id",
   "metadata": {
    "collapsed": true,
    "colab": {
     "base_uri": "https://localhost:8080/"
    },
    "id": "initial_id",
    "outputId": "7ec6029b-c776-4c8e-beb9-c3b1c0b40ac9",
    "is_executing": true
   },
   "outputs": [],
   "source": [
    "# install deepnovo repo\n",
    "!git clone https://github.com/nh2tran/DeepNovo.git"
   ]
  },
  {
   "cell_type": "code",
   "source": [
    "# copy deepnovo files to repo\n",
    "from distutils.dir_util import copy_tree\n",
    "copy_tree('/content/drive/MyDrive/FH Hagenberg/BSC/Thesis/DeepNovo-0.0.1', '/content/DeepNovo')"
   ],
   "metadata": {
    "id": "EIarChfDygEf",
    "outputId": "9627d736-224c-41c3-b9b8-60543d18f382",
    "colab": {
     "base_uri": "https://localhost:8080/"
    }
   },
   "id": "EIarChfDygEf",
   "execution_count": 5,
   "outputs": [
    {
     "output_type": "execute_result",
     "data": {
      "text/plain": [
       "['/content/DeepNovo/train.example/checkpoint',\n",
       " '/content/DeepNovo/train.example/decode_output.tab',\n",
       " '/content/DeepNovo/train.example/log_file_caption_2dir.tab',\n",
       " '/content/DeepNovo/train.example/output.deepnovo_db.tab',\n",
       " '/content/DeepNovo/train.example/translate.ckpt-48600.index',\n",
       " '/content/DeepNovo/train.example/terminal.log',\n",
       " '/content/DeepNovo/train.example/translate.ckpt-48600.data-00000-of-00001',\n",
       " '/content/DeepNovo/data.training/yeast.low.coon_2013/peaks.db.mgf.test.dup',\n",
       " '/content/DeepNovo/data/uniprot_sprot.yeast.fasta',\n",
       " '/content/DeepNovo/knapsack.npy.zip']"
      ]
     },
     "metadata": {},
     "execution_count": 5
    }
   ]
  },
  {
   "cell_type": "code",
   "source": [
    "%cd /content/DeepNovo/"
   ],
   "metadata": {
    "id": "g9zp1uFwzWxD",
    "outputId": "4779e223-a7a0-4df2-a935-e4f55e489703",
    "colab": {
     "base_uri": "https://localhost:8080/"
    }
   },
   "id": "g9zp1uFwzWxD",
   "execution_count": 7,
   "outputs": [
    {
     "output_type": "stream",
     "name": "stdout",
     "text": [
      "/content/DeepNovo\n"
     ]
    }
   ]
  },
  {
   "cell_type": "code",
   "source": [
    "# build c_python setup to accelerate python\n",
    "!python deepnovo_cython_setup.py build_ext --inplace"
   ],
   "metadata": {
    "id": "l5U-QbUGzLTp",
    "outputId": "906a6dab-8ec1-4081-b374-c4633a79d951",
    "colab": {
     "base_uri": "https://localhost:8080/"
    }
   },
   "id": "l5U-QbUGzLTp",
   "execution_count": 8,
   "outputs": [
    {
     "output_type": "stream",
     "name": "stdout",
     "text": [
      "Compiling deepnovo_cython_modules.pyx because it changed.\n",
      "[1/1] Cythonizing deepnovo_cython_modules.pyx\n",
      "/usr/local/lib/python3.10/dist-packages/Cython/Compiler/Main.py:381: FutureWarning: Cython directive 'language_level' not set, using '3str' for now (Py3). This has changed from earlier releases! File: /content/DeepNovo/deepnovo_cython_modules.pyx\n",
      "  tree = Parsing.p_module(s, pxd, full_module_name)\n"
     ]
    }
   ]
  },
  {
   "cell_type": "code",
   "source": [
    "!pip install biopython pyteomics"
   ],
   "metadata": {
    "id": "At9y4H5l0Hap",
    "outputId": "7f8ac591-3c18-4414-a525-946d31b2776b",
    "colab": {
     "base_uri": "https://localhost:8080/"
    }
   },
   "id": "At9y4H5l0Hap",
   "execution_count": 21,
   "outputs": [
    {
     "output_type": "stream",
     "name": "stdout",
     "text": [
      "Requirement already satisfied: biopython in /usr/local/lib/python3.10/dist-packages (1.83)\n",
      "Collecting pyteomics\n",
      "  Downloading pyteomics-4.7.1-py2.py3-none-any.whl (236 kB)\n",
      "\u001B[2K     \u001B[90m━━━━━━━━━━━━━━━━━━━━━━━━━━━━━━━━━━━━━━━━\u001B[0m \u001B[32m237.0/237.0 kB\u001B[0m \u001B[31m3.8 MB/s\u001B[0m eta \u001B[36m0:00:00\u001B[0m\n",
      "\u001B[?25hRequirement already satisfied: numpy in /usr/local/lib/python3.10/dist-packages (from biopython) (1.25.2)\n",
      "Installing collected packages: pyteomics\n",
      "Successfully installed pyteomics-4.7.1\n"
     ]
    }
   ]
  },
  {
   "cell_type": "code",
   "source": [
    "import tensorflow as tf\n",
    "print(tf.__version__)\n"
   ],
   "metadata": {
    "id": "wdT0F_6y0BfU",
    "outputId": "edb4d959-a129-42bf-93bc-b55145c6dfb7",
    "colab": {
     "base_uri": "https://localhost:8080/"
    }
   },
   "id": "wdT0F_6y0BfU",
   "execution_count": 10,
   "outputs": [
    {
     "output_type": "stream",
     "name": "stdout",
     "text": [
      "2.15.0\n"
     ]
    }
   ]
  },
  {
   "cell_type": "code",
   "source": [
    "# test pretrained model\n",
    "!python deepnovo_main.py --train_dir train.example --decode --beam_search --beam_size 5"
   ],
   "metadata": {
    "id": "ybgBk7Oazg7t",
    "outputId": "a42bf174-1b10-410d-f7ec-59301fac23fd",
    "colab": {
     "base_uri": "https://localhost:8080/"
    }
   },
   "id": "ybgBk7Oazg7t",
   "execution_count": 26,
   "outputs": [
    {
     "output_type": "stream",
     "name": "stdout",
     "text": [
      "2024-04-10 16:41:31.826207: E external/local_xla/xla/stream_executor/cuda/cuda_dnn.cc:9261] Unable to register cuDNN factory: Attempting to register factory for plugin cuDNN when one has already been registered\n",
      "2024-04-10 16:41:31.826279: E external/local_xla/xla/stream_executor/cuda/cuda_fft.cc:607] Unable to register cuFFT factory: Attempting to register factory for plugin cuFFT when one has already been registered\n",
      "2024-04-10 16:41:31.827376: E external/local_xla/xla/stream_executor/cuda/cuda_blas.cc:1515] Unable to register cuBLAS factory: Attempting to register factory for plugin cuBLAS when one has already been registered\n",
      "2024-04-10 16:41:32.910638: W tensorflow/compiler/tf2tensorrt/utils/py_utils.cc:38] TF-TRT Warning: Could not find TensorRT\n",
      "vocab_reverse  ['_PAD', '_GO', '_EOS', 'A', 'R', 'N', 'Nmod', 'D', 'Cmod', 'E', 'Q', 'Qmod', 'G', 'H', 'I', 'L', 'K', 'M', 'Mmod', 'F', 'P', 'S', 'T', 'W', 'Y', 'V']\n",
      "vocab  {'_PAD': 0, '_GO': 1, '_EOS': 2, 'A': 3, 'R': 4, 'N': 5, 'Nmod': 6, 'D': 7, 'Cmod': 8, 'E': 9, 'Q': 10, 'Qmod': 11, 'G': 12, 'H': 13, 'I': 14, 'L': 15, 'K': 16, 'M': 17, 'Mmod': 18, 'F': 19, 'P': 20, 'S': 21, 'T': 22, 'W': 23, 'Y': 24, 'V': 25}\n",
      "vocab_size  26\n",
      "SPECTRUM_RESOLUTION  10\n",
      "WINDOW_SIZE  10\n",
      "MAX_LEN  50\n",
      "_buckets  [12, 22, 32]\n",
      "num_ion  8\n",
      "l2_loss_weight  0.0\n",
      "embedding_size  512\n",
      "num_layers  1\n",
      "num_units  512\n",
      "keep_conv  0.75\n",
      "keep_dense  0.5\n",
      "batch_size  128\n",
      "epoch_stop  20\n",
      "train_stack_size  4500\n",
      "valid_stack_size  15000\n",
      "test_stack_size  4000\n",
      "buffer_size  4000\n",
      "steps_per_checkpoint  100\n",
      "random_test_batches  10\n",
      "max_gradient_norm  5.0\n",
      "main()\n",
      "DECODING MODEL\n",
      "================================================================================\n",
      "ModelInference: __init__()\n",
      "================================================================================\n",
      "ModelNetwork: __init__()\n",
      "================================================================================\n",
      "ModelInference: build_model()\n",
      "================================================================================\n",
      "ModelNetwork: build_network()\n",
      "================================================================================\n",
      "ModelNetwork: _build_cnn_spectrum()\n",
      "WARNING:tensorflow:From /usr/local/lib/python3.10/dist-packages/tensorflow/python/util/deprecation.py:588: UniformUnitScaling.__init__ (from tensorflow.python.ops.init_ops) is deprecated and will be removed in a future version.\n",
      "Instructions for updating:\n",
      "Use tf.initializers.variance_scaling instead with distribution=uniform to get equivalent behavior.\n",
      "W0410 16:41:34.941593 136355980779520 deprecation.py:50] From /usr/local/lib/python3.10/dist-packages/tensorflow/python/util/deprecation.py:588: UniformUnitScaling.__init__ (from tensorflow.python.ops.init_ops) is deprecated and will be removed in a future version.\n",
      "Instructions for updating:\n",
      "Use tf.initializers.variance_scaling instead with distribution=uniform to get equivalent behavior.\n",
      "WARNING:tensorflow:From /usr/local/lib/python3.10/dist-packages/tensorflow/python/util/dispatch.py:1260: calling dropout (from tensorflow.python.ops.nn_ops) with keep_prob is deprecated and will be removed in a future version.\n",
      "Instructions for updating:\n",
      "Please use `rate` instead of `keep_prob`. Rate should be set to `rate = 1 - keep_prob`.\n",
      "W0410 16:41:34.970347 136355980779520 deprecation.py:50] From /usr/local/lib/python3.10/dist-packages/tensorflow/python/util/dispatch.py:1260: calling dropout (from tensorflow.python.ops.nn_ops) with keep_prob is deprecated and will be removed in a future version.\n",
      "Instructions for updating:\n",
      "Please use `rate` instead of `keep_prob`. Rate should be set to `rate = 1 - keep_prob`.\n",
      "================================================================================\n",
      "ModelNetwork: _build_embedding_AAid()\n",
      "================================================================================\n",
      "ModelNetwork: _build_cnn_ion()\n",
      "Traceback (most recent call last):\n",
      "  File \"/content/DeepNovo/deepnovo_main.py\", line 83, in <module>\n",
      "    tf.compat.v1.app.run()\n",
      "  File \"/usr/local/lib/python3.10/dist-packages/tensorflow/python/platform/app.py\", line 36, in run\n",
      "    _run(main=main, argv=argv, flags_parser=_parse_flags_tolerate_undef)\n",
      "  File \"/usr/local/lib/python3.10/dist-packages/absl/app.py\", line 308, in run\n",
      "    _run_main(main, args)\n",
      "  File \"/usr/local/lib/python3.10/dist-packages/absl/app.py\", line 254, in _run_main\n",
      "    sys.exit(main(argv))\n",
      "  File \"/content/DeepNovo/deepnovo_main.py\", line 35, in main\n",
      "    deepnovo_main_modules.decode()\n",
      "  File \"/content/DeepNovo/deepnovo_main_modules.py\", line 1982, in decode\n",
      "    model.build_model()\n",
      "  File \"/content/DeepNovo/deepnovo_model.py\", line 705, in build_model\n",
      "    self.output_forward, self.output_backward = self.model_network.build_network(\n",
      "  File \"/content/DeepNovo/deepnovo_model.py\", line 308, in build_network\n",
      "    cnn_ion_feature, cnn_ion_logit = self._build_cnn_ion(\n",
      "  File \"/content/DeepNovo/deepnovo_model.py\", line 440, in _build_cnn_ion\n",
      "    cnn_ion_logit = core_rnn_cell._linear(args=cnn_ion_feature,\n",
      "NameError: name 'core_rnn_cell' is not defined\n"
     ]
    }
   ]
  }
 ],
 "metadata": {
  "kernelspec": {
   "display_name": "Python 3",
   "language": "python",
   "name": "python3"
  },
  "language_info": {
   "codemirror_mode": {
    "name": "ipython",
    "version": 2
   },
   "file_extension": ".py",
   "mimetype": "text/x-python",
   "name": "python",
   "nbconvert_exporter": "python",
   "pygments_lexer": "ipython2",
   "version": "2.7.6"
  },
  "colab": {
   "provenance": []
  }
 },
 "nbformat": 4,
 "nbformat_minor": 5
}
